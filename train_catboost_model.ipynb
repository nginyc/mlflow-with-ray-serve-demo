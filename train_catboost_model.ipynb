{
 "cells": [
  {
   "cell_type": "markdown",
   "id": "224b2824",
   "metadata": {},
   "source": [
    "# Train CatBoost Model"
   ]
  },
  {
   "cell_type": "code",
   "execution_count": 1,
   "id": "60f42573",
   "metadata": {},
   "outputs": [],
   "source": [
    "from sklearn import datasets\n",
    "from sklearn.metrics import accuracy_score\n",
    "from sklearn.model_selection import train_test_split\n",
    "import mlflow\n",
    "import mlflow.catboost\n",
    "from mlflow.models import infer_signature\n",
    "import dotenv\n",
    "import os"
   ]
  },
  {
   "cell_type": "code",
   "execution_count": 2,
   "id": "04145600",
   "metadata": {},
   "outputs": [
    {
     "name": "stdout",
     "output_type": "stream",
     "text": [
      "Python version: 3.9.22 (main, Jun 24 2025, 13:51:37) \n",
      "[Clang 17.0.0 (clang-1700.0.13.3)]\n",
      "Catboost version: 1.1\n",
      "Numpy version: 1.26.4\n",
      "Pandas version: 1.5.3\n"
     ]
    }
   ],
   "source": [
    "import catboost\n",
    "from catboost import CatBoostClassifier\n",
    "import numpy as np\n",
    "import pandas as pd\n",
    "\n",
    "print('Python version:', os.sys.version)\n",
    "print('Catboost version:', catboost.__version__)\n",
    "print('Numpy version:', np.__version__)\n",
    "print('Pandas version:', pd.__version__)"
   ]
  },
  {
   "cell_type": "markdown",
   "id": "3e3c6ac8",
   "metadata": {},
   "source": [
    "## Configure"
   ]
  },
  {
   "cell_type": "code",
   "execution_count": 3,
   "id": "f948ff1a",
   "metadata": {},
   "outputs": [
    {
     "data": {
      "text/plain": [
       "True"
      ]
     },
     "execution_count": 3,
     "metadata": {},
     "output_type": "execute_result"
    }
   ],
   "source": [
    "dotenv.load_dotenv()"
   ]
  },
  {
   "cell_type": "code",
   "execution_count": 4,
   "id": "502c5ad2",
   "metadata": {},
   "outputs": [],
   "source": [
    "MLFLOW_TRACKING_URI = os.getenv(\"MLFLOW_TRACKING_URI\", \"http://localhost:8080\")\n",
    "MLFLOW_EXPERIMENT = \"iris_classification\""
   ]
  },
  {
   "cell_type": "code",
   "execution_count": 5,
   "id": "3e0092ed",
   "metadata": {},
   "outputs": [],
   "source": [
    "mlflow.set_tracking_uri(uri=MLFLOW_TRACKING_URI)"
   ]
  },
  {
   "cell_type": "markdown",
   "id": "d2c92dc2",
   "metadata": {},
   "source": [
    "## Load Data"
   ]
  },
  {
   "cell_type": "code",
   "execution_count": 6,
   "id": "beba8530",
   "metadata": {},
   "outputs": [],
   "source": [
    "iris = datasets.load_iris()\n",
    "X = pd.DataFrame(iris.data, columns=iris.feature_names)\n",
    "y = pd.Series(iris.target)\n",
    "X_train, X_test, y_train, y_test = train_test_split(X, y, test_size=0.2, random_state=42)"
   ]
  },
  {
   "cell_type": "markdown",
   "id": "56f4d04f",
   "metadata": {},
   "source": [
    "## Train & Log Model"
   ]
  },
  {
   "cell_type": "code",
   "execution_count": 7,
   "id": "a34ae4bf",
   "metadata": {},
   "outputs": [
    {
     "name": "stderr",
     "output_type": "stream",
     "text": [
      "/Users/ngin.chuan/repos/ray-serve-demo/.venv.py39/lib/python3.9/site-packages/catboost/core.py:1419: FutureWarning: iteritems is deprecated and will be removed in a future version. Use .items instead.\n",
      "  self._init_pool(data, label, cat_features, text_features, embedding_features, embedding_features_data, pairs, weight,\n",
      "2025/06/24 17:40:30 WARNING mlflow.models.model: `artifact_path` is deprecated. Please use `name` instead.\n"
     ]
    },
    {
     "name": "stdout",
     "output_type": "stream",
     "text": [
      "Starting MLflow run...\n",
      "Training model...\n",
      "Evaluating model...\n",
      "Model accuracy: 1.0000\n",
      "Logging model to MLflow...\n",
      "🏃 View run legendary-roo-96 at: http://localhost:8080/#/experiments/433423518861823329/runs/535ec45f2dc0442bbd982d33381f1f1d\n",
      "🧪 View experiment at: http://localhost:8080/#/experiments/433423518861823329\n"
     ]
    }
   ],
   "source": [
    "mlflow.set_experiment(MLFLOW_EXPERIMENT)\n",
    "\n",
    "with mlflow.start_run():\n",
    "    print(\"Starting MLflow run...\")\n",
    "    params = {\n",
    "        \"iterations\": 100,\n",
    "        \"learning_rate\": 0.1,\n",
    "        \"depth\": 3,\n",
    "    }\n",
    "    mlflow.log_params(params)\n",
    "\n",
    "    print(\"Training model...\")\n",
    "    model = CatBoostClassifier(**params, verbose=0) \n",
    "    model.fit(X_train, y_train)\n",
    "\n",
    "    print(\"Evaluating model...\")\n",
    "    y_pred = model.predict(X_test)\n",
    "    accuracy = accuracy_score(y_test, y_pred)\n",
    "    mlflow.log_metric(\"accuracy\", accuracy)\n",
    "    print(f\"Model accuracy: {accuracy:.4f}\")\n",
    "\n",
    "    print(\"Logging model to MLflow...\")\n",
    "    signature = infer_signature(X, y_pred)\n",
    "    model_info = mlflow.catboost.log_model(model, \"model\", signature=signature)\n",
    "    "
   ]
  },
  {
   "cell_type": "code",
   "execution_count": 8,
   "id": "f6519b8e",
   "metadata": {},
   "outputs": [
    {
     "name": "stdout",
     "output_type": "stream",
     "text": [
      "Test sample:\n"
     ]
    },
    {
     "data": {
      "text/html": [
       "<div>\n",
       "<style scoped>\n",
       "    .dataframe tbody tr th:only-of-type {\n",
       "        vertical-align: middle;\n",
       "    }\n",
       "\n",
       "    .dataframe tbody tr th {\n",
       "        vertical-align: top;\n",
       "    }\n",
       "\n",
       "    .dataframe thead th {\n",
       "        text-align: right;\n",
       "    }\n",
       "</style>\n",
       "<table border=\"1\" class=\"dataframe\">\n",
       "  <thead>\n",
       "    <tr style=\"text-align: right;\">\n",
       "      <th></th>\n",
       "      <th>sepal length (cm)</th>\n",
       "      <th>sepal width (cm)</th>\n",
       "      <th>petal length (cm)</th>\n",
       "      <th>petal width (cm)</th>\n",
       "    </tr>\n",
       "  </thead>\n",
       "  <tbody>\n",
       "    <tr>\n",
       "      <th>143</th>\n",
       "      <td>6.8</td>\n",
       "      <td>3.2</td>\n",
       "      <td>5.9</td>\n",
       "      <td>2.3</td>\n",
       "    </tr>\n",
       "    <tr>\n",
       "      <th>56</th>\n",
       "      <td>6.3</td>\n",
       "      <td>3.3</td>\n",
       "      <td>4.7</td>\n",
       "      <td>1.6</td>\n",
       "    </tr>\n",
       "    <tr>\n",
       "      <th>128</th>\n",
       "      <td>6.4</td>\n",
       "      <td>2.8</td>\n",
       "      <td>5.6</td>\n",
       "      <td>2.1</td>\n",
       "    </tr>\n",
       "    <tr>\n",
       "      <th>69</th>\n",
       "      <td>5.6</td>\n",
       "      <td>2.5</td>\n",
       "      <td>3.9</td>\n",
       "      <td>1.1</td>\n",
       "    </tr>\n",
       "    <tr>\n",
       "      <th>68</th>\n",
       "      <td>6.2</td>\n",
       "      <td>2.2</td>\n",
       "      <td>4.5</td>\n",
       "      <td>1.5</td>\n",
       "    </tr>\n",
       "  </tbody>\n",
       "</table>\n",
       "</div>"
      ],
      "text/plain": [
       "     sepal length (cm)  sepal width (cm)  petal length (cm)  petal width (cm)\n",
       "143                6.8               3.2                5.9               2.3\n",
       "56                 6.3               3.3                4.7               1.6\n",
       "128                6.4               2.8                5.6               2.1\n",
       "69                 5.6               2.5                3.9               1.1\n",
       "68                 6.2               2.2                4.5               1.5"
      ]
     },
     "metadata": {},
     "output_type": "display_data"
    },
    {
     "name": "stdout",
     "output_type": "stream",
     "text": [
      "Predictions:\n"
     ]
    },
    {
     "name": "stderr",
     "output_type": "stream",
     "text": [
      "/Users/ngin.chuan/repos/ray-serve-demo/.venv.py39/lib/python3.9/site-packages/catboost/core.py:1419: FutureWarning: iteritems is deprecated and will be removed in a future version. Use .items instead.\n",
      "  self._init_pool(data, label, cat_features, text_features, embedding_features, embedding_features_data, pairs, weight,\n"
     ]
    },
    {
     "data": {
      "text/plain": [
       "array([[2],\n",
       "       [1],\n",
       "       [2],\n",
       "       [1],\n",
       "       [1]])"
      ]
     },
     "execution_count": 8,
     "metadata": {},
     "output_type": "execute_result"
    }
   ],
   "source": [
    "# Test predictions\n",
    "X_test_sample = X_test.sample(5, random_state=42)\n",
    "print('Test sample:')\n",
    "display(X_test_sample)\n",
    "print('Predictions:')\n",
    "model.predict(X_test_sample)  "
   ]
  }
 ],
 "metadata": {
  "kernelspec": {
   "display_name": ".venv.py39",
   "language": "python",
   "name": "python3"
  },
  "language_info": {
   "codemirror_mode": {
    "name": "ipython",
    "version": 3
   },
   "file_extension": ".py",
   "mimetype": "text/x-python",
   "name": "python",
   "nbconvert_exporter": "python",
   "pygments_lexer": "ipython3",
   "version": "3.9.22"
  }
 },
 "nbformat": 4,
 "nbformat_minor": 5
}
